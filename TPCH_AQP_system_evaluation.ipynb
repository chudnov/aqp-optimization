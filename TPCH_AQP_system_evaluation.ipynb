{
 "cells": [
  {
   "cell_type": "code",
   "execution_count": 50,
   "metadata": {},
   "outputs": [],
   "source": [
    "import pandas as pd\n",
    "import numpy as np\n",
    "from ipynb.fs.full.AQP_system import AQP_system\n",
    "from ipynb.fs.full.GK_summary import GK_summary, GK_quantile\n",
    "import math\n",
    "import matplotlib.pyplot as plt"
   ]
  },
  {
   "cell_type": "code",
   "execution_count": 29,
   "metadata": {},
   "outputs": [],
   "source": [
    "data = pd.read_table('data/lineitem_clean.csv', header = 0, sep = ',')"
   ]
  },
  {
   "cell_type": "code",
   "execution_count": 33,
   "metadata": {},
   "outputs": [],
   "source": [
    "data = data.sample(n=10000)"
   ]
  },
  {
   "cell_type": "code",
   "execution_count": null,
   "metadata": {},
   "outputs": [],
   "source": [
    "#data = data.set_index(\"ORDERKEY\", drop = False)"
   ]
  },
  {
   "cell_type": "code",
   "execution_count": null,
   "metadata": {},
   "outputs": [],
   "source": [
    "#Read data\n",
    "#data = pd.read_csv('data/tpch_100000.csv')"
   ]
  },
  {
   "cell_type": "code",
   "execution_count": 51,
   "metadata": {},
   "outputs": [],
   "source": [
    "#create system class\n",
    "class AQP_system:\n",
    "    #****System Parameters****\n",
    "    \n",
    "   \n",
    "    #numeric columns\n",
    "    #numeric_columns = []\n",
    "    #categorical columns\n",
    "    #categorical_columns = []\n",
    "    #total allowed space (proportion of underlying data)\n",
    "    #total_allowed_space = None\n",
    "    #remaining space (used when initializing meetadata0)\n",
    "    #remaining_space = None\n",
    "    #max quantile rank error\n",
    "    #quantile_error = None\n",
    "    #histogram min number of buckets (power of nrows in data)\n",
    "    #histogram_min_size = None\n",
    "    #max sample+seek distribution error\n",
    "    #sample_error = None\n",
    "    #indicator to use stdev-weighred sample sizes\n",
    "    #stdev_option = False\n",
    "    #indicator to use column storage in measure biased samples only for predicate columns correlated to the measure\n",
    "    #correlated_column_storage_option = False\n",
    "    #indicator to store selectivites of each categorical variable in each sample table or not\n",
    "    #column_selectivity_map_option = False\n",
    "    #indicator to allocate extra space (above minimum needed to guaruntee GK and sample+seek errors) to histograms/samples \n",
    "    #based on a-priori knowledge of the query workload or not)\n",
    "    #know_queries_in_advance = False\n",
    "    #workload of queries\n",
    "    #workload = []\n",
    "    #uniform\n",
    "    #include uniform sample for count or not\n",
    "   \n",
    "    \n",
    "    #****System Metadata****\n",
    "    #nrows data\n",
    "    #N = None\n",
    "    #GK_summaries_map = {}\n",
    "    #stdev_map = {}\n",
    "    #uniform_sample = None\n",
    "    #uniform_sample_selectivity_map = {}\n",
    "    #correlated_columns_for_samples_map = {}\n",
    "    #min_rows_sample_table = None\n",
    "    #histogram_map = {}\n",
    "    #measure_biased_samples_map = {}\n",
    "    #measure_biased_samples_selectivity_map = {}\n",
    "    \n",
    "    \n",
    "    \n",
    "    #init\n",
    "    def __init__(self, data, numeric_columns, categorical_columns, total_allowed_space, histogram_min_size=None, quantile_error=None, sample_error=None, uniform=False,stdev_option=False, \n",
    "                correlated_column_storage_option=False, column_selectivity_map_option=False, know_queries_in_advance=False, workload=None):\n",
    "        \n",
    "        #initialize required parameters\n",
    "        self.N = data.shape[0]\n",
    "        self.numeric_columns = numeric_columns;\n",
    "        self.categorical_columns = categorical_columns;\n",
    "        self.total_allowed_space = total_allowed_space\n",
    "        \n",
    "        #note: changing space away from proportion to number of entries\n",
    "        print (\"Total Size\" + str(data.shape[0]*data.shape[1]))\n",
    "        self.remaining_space = data.shape[0]*data.shape[1]*total_allowed_space\n",
    "        print (\"Remaining Space\" + str(self.remaining_space))\n",
    "        \n",
    "        #initialize optional parameters\n",
    "            \n",
    "        self.know_queries_in_advance = False;\n",
    "        if (know_queries_in_advance):\n",
    "            self.know_queries_in_advance = know_queries_in_advance\n",
    "            self.workload = workload\n",
    "        \n",
    "        #initialize metadata\n",
    "        self.measure_biased_samples_map = {}\n",
    "        \n",
    "        if (quantile_error!=None):\n",
    "            self.GK_summaries_map = {}\n",
    "            self.quantile_error = quantile_error\n",
    "            self.initialize_GK_summaries(data);\n",
    "            self.remaining_space = self.remaining_space-self.get_GK_size()\n",
    "        \n",
    "        self.stdev_option = stdev_option\n",
    "        if (stdev_option): \n",
    "            self.initialize_stdev_map (data)\n",
    "            self.remaining_space = self.remaining_space-len(stdev_map.values())\n",
    "        \n",
    "        #no space addition, should get deleted after initialization\n",
    "        self.correlated_column_storage_option = correlated_column_storage_option\n",
    "        if(correlated_column_storage_option): \n",
    "            self.initialize_correlated_columns_for_samples_map (data)\n",
    "            self.remaining_space = self.remaining_space-len(correlated_columns_for_samples_map.values())\n",
    "        \n",
    "        if (sample_error != None):\n",
    "            self.sample_error = sample_error\n",
    "            self.min_rows_sample_table = math.sqrt(self.N)\n",
    "            self.min_rows_sample_table =self.min_rows_sample_table/(self.sample_error)**2\n",
    "            self.min_rows_sample_table=int(self.min_rows_sample_table)\n",
    "            self.min_sample_size = self.get_min_sample_size(N=data.shape[0], data=data)\n",
    "            self.remaining_space = self.remaining_space - self.min_sample_size\n",
    "        \n",
    "        if (histogram_min_size != None):\n",
    "            self.histogram_map = {}\n",
    "            self.histogram_min_size = histogram_min_size\n",
    "            min_histogram_size = (data.shape[0]*histogram_min_size)*len(self.numeric_columns)\n",
    "            self.remaining_space = self.remaining_space - min_histogram_size\n",
    "            \n",
    "        remaining_space_distribution = self.get_remaining_space_distribution();\n",
    "        \n",
    "        if (histogram_min_size != None):\n",
    "            self.histogram_total_space = min_histogram_size + remaining_space_distribution['Range']*self.remaining_space\n",
    "            self.initialize_histograms(data, self.histogram_total_space)\n",
    "        \n",
    "        if (sample_error != None):\n",
    "            measure_biased_samples_extra_space = remaining_space_distribution['Sum+Predicate']*self.remaining_space\n",
    "            self.measure_biased_samples_space= self.min_sample_size + measure_biased_samples_extra_space\n",
    "            self.initialize_measure_biased_samples (data, measure_biased_samples_extra_space)\n",
    "        \n",
    "        if (uniform):\n",
    "            uniform_sample_extra_space = remaining_space_distribution['Count']*self.remaining_space\n",
    "            self.initialize_uniform_sample(data, uniform_sample_extra_space)\n",
    "            \n",
    "        if (column_selectivity_map_option): \n",
    "            self.column_selectivity_map_option = column_selectivity_map_option\n",
    "            self.initialize_measure_biased_samples_selectivity_map()\n",
    "            self.initialize_uniform_sample_selectivity_map (data)\n",
    "    \n",
    "\n",
    "    #Initializes all metada for the system to process queries on the underlying data\n",
    "    def initialize_GK_summaries(self, data):\n",
    "        for column in self.numeric_columns:\n",
    "            summary = GK_summary (data[column].to_numpy(), self.quantile_error)\n",
    "            self.GK_summaries_map[column] = summary\n",
    "    \n",
    "    #this is public also\n",
    "    def get_GK_size(self):\n",
    "        total_size = 0\n",
    "        for key in self.GK_summaries_map:\n",
    "            summary = self.GK_summaries_map[key]\n",
    "            total_size+=len(summary)\n",
    "        #*3 for tuples\n",
    "        return total_size*3\n",
    "    \n",
    "    def get_histogram_size(self):\n",
    "        return self.histogram_total_space\n",
    "    \n",
    "    def get_measure_biased_samples_size(self):\n",
    "        total_size_sample = 0\n",
    "        for key in self.measure_biased_samples_map:\n",
    "            sample = self.measure_biased_samples_map[key]\n",
    "            total_size_sample += sample.shape[0]*sample.shape[1]\n",
    "        return total_size_sample\n",
    "    \n",
    "    def initialize_stdev_map (self, data):\n",
    "        for column in self.numeric_columns:\n",
    "            self.stdev_map[column] = np.std(data[column])\n",
    "    \n",
    "    def initialize_uniform_sample (self, data, extra_space):\n",
    "        extra_rows = int(extra_space/data.shape[1])\n",
    "        #minimum size needed for error gauruntee (sample+seek)\n",
    "        self.uniform_sample = data.sample(n=self.min_rows_sample_table + extra_rows)\n",
    "        \n",
    "    def initialize_uniform_sample_selectivity_map (self, data):\n",
    "        for column in self.categorical_columns:\n",
    "            frequency_map = {}\n",
    "            for entry in self.uniform_sample[column]:\n",
    "                if (entry in frequency_map):\n",
    "                    frequency_map[entry] = frequency_map[entry] + 1\n",
    "                else:\n",
    "                    frequency_map[entry] = 1\n",
    "            self.uniform_sample_selectivity_map[column]=frequency_map\n",
    "            \n",
    "    def initialize_correlated_columns_for_samples_maps (self, data):\n",
    "        for num_column in self.numeric_columns:\n",
    "            correlated_columns_for_samples_map[num_colum] = []\n",
    "            for cat_column in self.categorical_columns:\n",
    "                ols_formula = num_column + ' ~ ' +'C(' + cat_column + ')'\n",
    "                model = ols(ols_formula, data=self.uniform_sample).fit()\n",
    "                aov_table = sm.stats.anova_lm(model, typ=2)\n",
    "                p_value=aov_table['PR(>F)']['C(' + cat_column + ')']\n",
    "                if (p_value<=.05):\n",
    "                    correlated_columns_for_samples_map[num_colum].append(cat_column)\n",
    "                    \n",
    "    def get_min_sample_size (self, N, data):\n",
    "        sample_size = 0\n",
    "        #categorical columns in samples\n",
    "        if (self.correlated_column_storage_option):\n",
    "            for key in self.correlated_columns_for_samples_map:\n",
    "                val = self.correlated_columns_for_samples_map[key]\n",
    "                sample_size += len(val)*self.min_rows_sample_table\n",
    "        else:\n",
    "            sample_size += self.min_rows_sample_table*len(self.categorical_columns)**len(self.numeric_columns)\n",
    "        return sample_size/(data.shape[0]*data.shape[1])\n",
    "    \n",
    "    def get_remaining_space_distribution(self):\n",
    "        if (self.know_queries_in_advance):\n",
    "            #count workload frequency\n",
    "            workload_frequency_map = {'Sum+Predicate':0, 'Range':0, 'Count':0}\n",
    "            total = 0\n",
    "            for query in self.workload:\n",
    "                if (query == 'Sum+Predicate' or query =='Range'  or query == 'Count'):\n",
    "                    workload_frequency_map[query] += 1\n",
    "                    total += 1\n",
    "            #normalize to a distribution\n",
    "            for key in workload_frequency_map:\n",
    "                workload_frequency_map[key] = workload_frequency_map[key]/total\n",
    "                workload_frequency_map[key] = workload_frequency_map[key]*self.remaining_space\n",
    "            return workload_frequency_map\n",
    "        else:\n",
    "            #for now, do nto allocate extra space\n",
    "            return {'Sum+Predicate': 0, 'Range': 0, 'Count': 0}\n",
    "    \n",
    "    def initialize_histograms (self, data, total_space):\n",
    "        #calculate number of buckets\n",
    "        num_bins = int(total_space);\n",
    "        \n",
    "        #initialize histogram\n",
    "        for column in self.numeric_columns:\n",
    "            measure_column = data[column].to_numpy()\n",
    "            self.histogram_map[column] = np.histogram(measure_column, bins=num_bins)\n",
    "            \n",
    "    def initialize_measure_biased_samples (self, data, extra_space):\n",
    "            #used for stdev setting\n",
    "            if (self.stdev_option):\n",
    "                total_stdev = sum(self.stdev_map.values())\n",
    "             \n",
    "            data_c = data.copy();\n",
    "            for column in self.numeric_columns:\n",
    "                #drop uncorrelated columns\n",
    "                if (self.correlated_column_storage_option):\n",
    "                    columns_to_drop = list(set(self.categorical_columns)-set(correlated_columns_for_samples_map[column]))\n",
    "                    data_c = data_c.drop(columns_to_drop)\n",
    "                    \n",
    "                measure_column = data_c[column].to_numpy()\n",
    "                sample_probabilities = measure_column\n",
    "                sample_probabilities = sample_probabilities/np.sum(sample_probabilities)\n",
    "                sample_table = None\n",
    "                if (self.stdev_option):\n",
    "                    nrow_stdev_option_proportion = stdev_map[column]/total_stdev\n",
    "\n",
    "                    #total extra rows * proportion\n",
    "                    n_rows_extra =  int(extra_space/data_c.shape[1])*nrow_stdev_option_proportion\n",
    "\n",
    "                    sample_table = data_c.sample(n = self.min_rows_sample_table+n_rows_extra, replace=True, weights= sample_probabilities)\n",
    "                    self.measure_biased_samples_map[column] = sample_table\n",
    "                else:\n",
    "                    #total number of rows/numbers of tables\n",
    "                    n_rows_extra =  int(extra_space/data_c.shape[1]/len(numeric_columns))\n",
    "                    sample_table = data_c.sample(n = self.min_rows_sample_table+n_rows_extra, replace=True, weights= sample_probabilities)\n",
    "                    self.measure_biased_samples_map[column] = sample_table\n",
    "    \n",
    "    def initialize_measure_biased_samples_selectivity_map (self):\n",
    "        for key in self.measure_biased_samples_map:\n",
    "            sample = self.measure_biased_samples_map[key]\n",
    "            column_map = {}\n",
    "            columns_to_use = self.categorical_columns\n",
    "            if (correlated_column_storage_option):\n",
    "                columns_to_use = correlated_columns_for_samples_map [key]\n",
    "            for column in sample.columns:\n",
    "                frequency_map = {}\n",
    "                for entry in sample[column]:\n",
    "                    if (entry in frequency_map):\n",
    "                        frequency_map[entry] = frequency_map[entry] + 1\n",
    "                    else:\n",
    "                        frequency_map[entry] = 1\n",
    "                column_map[column]=frequency_map\n",
    "            self.measure_biased_speedup_map[key] = column_map\n",
    "    #Public:\n",
    "    \n",
    "    def approximate_query (self,query):\n",
    "        query_type = query[0];\n",
    "        if (query_type == 'Quantile'):\n",
    "            column = query[1];\n",
    "            quantile = query[2];\n",
    "            \n",
    "            summary = self.GK_summaries_map[column];\n",
    "            estimate = GK_quantile (summary, self.quantile_error, quantile, self.N)\n",
    "            return estimate\n",
    "        #find proporiton of elements greater thana . valu\n",
    "        elif (query_type  == \"Range\"):\n",
    "            column = query[1];\n",
    "            value = query[2];\n",
    "\n",
    "            hist = self.histogram_map[column]\n",
    "            elements = hist[0]\n",
    "            buckets = hist[1]\n",
    "            sum_index = 0\n",
    "            max_error = 0\n",
    "            for j in range (1,len(buckets)):\n",
    "                if (buckets[j]>=value):\n",
    "                    sum_index = j\n",
    "                    max_error = elements[j-1]\n",
    "                    break\n",
    "\n",
    "            sum_buckets = 0\n",
    "            for k in range (len(elements)):\n",
    "                if (k>=(sum_index-1)):\n",
    "                    sum_buckets += elements[k]\n",
    "            estimate = sum_buckets;\n",
    "            return [estimate, max_error]\n",
    "        elif (query_type == \"Sum+Predicate\"):\n",
    "            numeric = query[1]\n",
    "            categorical = query[2]\n",
    "            sample = self.measure_biased_samples_map [numeric]\n",
    "            estimated_distribution = {}\n",
    "            total = 0\n",
    "            for predicate in sample[categorical]:\n",
    "                if (predicate not in estimated_distribution):\n",
    "                    estimated_distribution[predicate] = 1\n",
    "                else:  \n",
    "                    estimated_distribution[predicate] += 1\n",
    "                total += 1\n",
    "            for key in estimated_distribution:\n",
    "                estimated_distribution[key] /= total\n",
    "            return estimated_distribution"
   ]
  },
  {
   "cell_type": "code",
   "execution_count": 52,
   "metadata": {},
   "outputs": [],
   "source": [
    "#full data parameters\n",
    "#numeric_columns = ['L_QUANTITY', 'L_EXTENDEDPRICE', 'L_DISCOUNT', 'L_TAX', 'C_ACCTBAL', 'O_TOTALPRICE', 'P_SIZE', \n",
    "                     #'#P_RETAILPRICE', 'PS_AVAILQTY', 'PS_SUPPLYCOST', 'S_ACCTBAL']\n",
    "\n",
    "#categorical_columns = ['L_ORDERKEY', 'L_PARTKEY', 'L_SUPPKEY', 'L_LINENUMBER', 'L_RETURNFLAG', \n",
    "                       #'L_LINESTATUS', 'L_SHIPDATE', 'L_COMMITDATE', 'L_RECEIPTDATE', 'L_SHIPINSTRUCT', \n",
    "                       #'L_SHIPMODE', 'C_CUSTKEY', 'C_NAME', 'C_ADDRESS', 'C_NATIONKEY', 'C_PHONE', \n",
    "                       #'C_MKTSEGMENT', 'O_ORDERKEY', 'O_CUSTKEY', 'O_ORDERSTATUS', 'O_ORDERDATE', \n",
    "                       #'O_ORDERPRIORITY', 'O_CLERK', 'O_SHIPPRIORITY', 'P_PARTKEY', 'P_NAME', 'P_MFGR', \n",
    "                       #'P_BRAND', 'P_TYPE', 'P_CONTAINER', 'PS_PARTKEY', 'PS_SUPPKEY', 'S_SUPPKEY', 'S_NAME', \n",
    "                       #'S_ADDRESS', 'S_NATIONKEY', 'S_PHONE', 'N1_NATIONKEY', 'N1_NAME', 'N1_REGIONKEY', \n",
    "                       #'N2_NATIONKEY', 'N2_NAME', 'N2_REGIONKEY', 'R1_REGIONKEY', 'R1_NAME', 'R2_REGIONKEY', \n",
    "                       #'R2_NAME']"
   ]
  },
  {
   "cell_type": "code",
   "execution_count": 53,
   "metadata": {},
   "outputs": [],
   "source": [
    "#lineitem parameters\n",
    "numeric_columns = ['LINENUMBER', 'QUANTITY', 'EXTENDEDPRICE', 'DISCOUNT', \n",
    "                               'TAX']\n",
    "categorical_columns = ['RETURNFLAG', 'LINESTATUS', 'SHIPINSTRUCT', 'SHIPMODE']"
   ]
  },
  {
   "cell_type": "code",
   "execution_count": null,
   "metadata": {},
   "outputs": [],
   "source": [
    "#Evaluation 1.1: GK alon\n"
   ]
  },
  {
   "cell_type": "code",
   "execution_count": null,
   "metadata": {},
   "outputs": [],
   "source": [
    "#create one system to evaluate quantiles\n",
    "total_allowed_space = .1\n",
    "quantile_error = .25\n",
    "system_1 = AQP_system(data, numeric_columns, categorical_columns, total_allowed_space, quantile_error=quantile_error)"
   ]
  },
  {
   "cell_type": "code",
   "execution_count": null,
   "metadata": {},
   "outputs": [],
   "source": [
    "system_1 = AQP_system(data, numeric_columns, categorical_columns, total_allowed_space, quantile_error=quantile_error)"
   ]
  },
  {
   "cell_type": "code",
   "execution_count": null,
   "metadata": {},
   "outputs": [],
   "source": [
    "#create a query\n",
    "quantile = .5\n",
    "column = 'LINENUMBER'\n",
    "query = ['Range', column, quantile]\n",
    "#estimate that query\n",
    "estimate = system_1.approximate_query(query)\n",
    "print (estimate)"
   ]
  },
  {
   "cell_type": "code",
   "execution_count": 54,
   "metadata": {},
   "outputs": [],
   "source": [
    "#get sorted columns for error\n",
    "data_copy = data.copy()\n",
    "sorted_columns = {}\n",
    "for column in numeric_columns:\n",
    "   cur_column = data_copy[column]\n",
    "   cur_column = cur_column.to_numpy()\n",
    "   cur_column.sort()\n",
    "   sorted_columns [column] = cur_column"
   ]
  },
  {
   "cell_type": "code",
   "execution_count": 55,
   "metadata": {},
   "outputs": [
    {
     "name": "stdout",
     "output_type": "stream",
     "text": [
      "Total Size160000\n",
      "Remaining Space16000.0\n",
      "Built system for error 0.25\n",
      "Example 0\n",
      "Example 1\n",
      "Example 2\n",
      "Example 3\n",
      "Example 4\n",
      "Example 5\n",
      "Example 6\n",
      "Example 7\n",
      "Example 8\n",
      "Example 9\n",
      "Example 10\n",
      "Example 11\n",
      "Example 12\n",
      "Example 13\n",
      "Example 14\n",
      "Example 15\n",
      "Example 16\n",
      "Example 17\n",
      "Example 18\n",
      "Example 19\n",
      "Example 20\n",
      "Example 21\n",
      "Example 22\n",
      "Example 23\n",
      "Example 24\n",
      "Example 25\n",
      "Example 26\n",
      "Example 27\n",
      "Example 28\n",
      "Example 29\n",
      "Example 30\n",
      "Example 31\n",
      "Example 32\n",
      "Example 33\n",
      "Example 34\n",
      "Example 35\n",
      "Example 36\n",
      "Example 37\n",
      "Example 38\n",
      "Example 39\n",
      "Example 40\n",
      "Example 41\n",
      "Example 42\n",
      "Example 43\n",
      "Example 44\n",
      "Example 45\n",
      "Example 46\n",
      "Example 47\n",
      "Example 48\n",
      "Example 49\n",
      "Example 50\n",
      "Example 51\n",
      "Example 52\n",
      "Example 53\n",
      "Example 54\n",
      "Example 55\n",
      "Example 56\n",
      "Example 57\n",
      "Example 58\n",
      "Example 59\n",
      "Example 60\n",
      "Example 61\n",
      "Example 62\n",
      "Example 63\n",
      "Example 64\n",
      "Example 65\n",
      "Example 66\n",
      "Example 67\n",
      "Example 68\n",
      "Example 69\n",
      "Example 70\n",
      "Example 71\n",
      "Example 72\n",
      "Example 73\n",
      "Example 74\n",
      "Example 75\n",
      "Example 76\n",
      "Example 77\n",
      "Example 78\n",
      "Example 79\n",
      "Example 80\n",
      "Example 81\n",
      "Example 82\n",
      "Example 83\n",
      "Example 84\n",
      "Example 85\n",
      "Example 86\n",
      "Example 87\n",
      "Example 88\n",
      "Example 89\n",
      "Example 90\n",
      "Example 91\n",
      "Example 92\n",
      "Example 93\n",
      "Example 94\n",
      "Example 95\n",
      "Example 96\n",
      "Example 97\n",
      "Example 98\n",
      "Example 99\n",
      "Total Size160000\n",
      "Remaining Space16000.0\n",
      "Built system for error 0.25\n",
      "Example 0\n",
      "Example 1\n",
      "Example 2\n",
      "Example 3\n",
      "Example 4\n",
      "Example 5\n",
      "Example 6\n",
      "Example 7\n",
      "Example 8\n",
      "Example 9\n",
      "Example 10\n",
      "Example 11\n",
      "Example 12\n",
      "Example 13\n",
      "Example 14\n",
      "Example 15\n",
      "Example 16\n",
      "Example 17\n",
      "Example 18\n",
      "Example 19\n",
      "Example 20\n",
      "Example 21\n",
      "Example 22\n",
      "Example 23\n",
      "Example 24\n",
      "Example 25\n",
      "Example 26\n",
      "Example 27\n",
      "Example 28\n",
      "Example 29\n",
      "Example 30\n",
      "Example 31\n",
      "Example 32\n",
      "Example 33\n",
      "Example 34\n",
      "Example 35\n",
      "Example 36\n",
      "Example 37\n",
      "Example 38\n",
      "Example 39\n",
      "Example 40\n",
      "Example 41\n",
      "Example 42\n",
      "Example 43\n",
      "Example 44\n",
      "Example 45\n",
      "Example 46\n",
      "Example 47\n",
      "Example 48\n",
      "Example 49\n",
      "Example 50\n",
      "Example 51\n",
      "Example 52\n",
      "Example 53\n",
      "Example 54\n",
      "Example 55\n",
      "Example 56\n",
      "Example 57\n",
      "Example 58\n",
      "Example 59\n",
      "Example 60\n",
      "Example 61\n",
      "Example 62\n",
      "Example 63\n",
      "Example 64\n",
      "Example 65\n",
      "Example 66\n",
      "Example 67\n",
      "Example 68\n",
      "Example 69\n",
      "Example 70\n",
      "Example 71\n",
      "Example 72\n",
      "Example 73\n",
      "Example 74\n",
      "Example 75\n",
      "Example 76\n",
      "Example 77\n",
      "Example 78\n",
      "Example 79\n",
      "Example 80\n",
      "Example 81\n",
      "Example 82\n",
      "Example 83\n",
      "Example 84\n",
      "Example 85\n",
      "Example 86\n",
      "Example 87\n",
      "Example 88\n",
      "Example 89\n",
      "Example 90\n",
      "Example 91\n",
      "Example 92\n",
      "Example 93\n",
      "Example 94\n",
      "Example 95\n",
      "Example 96\n",
      "Example 97\n",
      "Example 98\n",
      "Example 99\n",
      "Total Size160000\n",
      "Remaining Space16000.0\n",
      "Built system for error 0.25\n",
      "Example 0\n",
      "Example 1\n",
      "Example 2\n",
      "Example 3\n",
      "Example 4\n",
      "Example 5\n",
      "Example 6\n",
      "Example 7\n",
      "Example 8\n",
      "Example 9\n",
      "Example 10\n",
      "Example 11\n",
      "Example 12\n",
      "Example 13\n",
      "Example 14\n",
      "Example 15\n",
      "Example 16\n",
      "Example 17\n",
      "Example 18\n",
      "Example 19\n",
      "Example 20\n",
      "Example 21\n",
      "Example 22\n",
      "Example 23\n",
      "Example 24\n",
      "Example 25\n",
      "Example 26\n",
      "Example 27\n",
      "Example 28\n",
      "Example 29\n",
      "Example 30\n",
      "Example 31\n",
      "Example 32\n",
      "Example 33\n",
      "Example 34\n",
      "Example 35\n",
      "Example 36\n",
      "Example 37\n",
      "Example 38\n",
      "Example 39\n",
      "Example 40\n",
      "Example 41\n",
      "Example 42\n",
      "Example 43\n",
      "Example 44\n",
      "Example 45\n",
      "Example 46\n",
      "Example 47\n",
      "Example 48\n",
      "Example 49\n",
      "Example 50\n",
      "Example 51\n",
      "Example 52\n",
      "Example 53\n",
      "Example 54\n",
      "Example 55\n",
      "Example 56\n",
      "Example 57\n",
      "Example 58\n",
      "Example 59\n",
      "Example 60\n",
      "Example 61\n",
      "Example 62\n",
      "Example 63\n",
      "Example 64\n",
      "Example 65\n",
      "Example 66\n",
      "Example 67\n",
      "Example 68\n",
      "Example 69\n",
      "Example 70\n",
      "Example 71\n",
      "Example 72\n",
      "Example 73\n",
      "Example 74\n",
      "Example 75\n",
      "Example 76\n",
      "Example 77\n",
      "Example 78\n",
      "Example 79\n",
      "Example 80\n",
      "Example 81\n",
      "Example 82\n",
      "Example 83\n",
      "Example 84\n",
      "Example 85\n",
      "Example 86\n",
      "Example 87\n",
      "Example 88\n",
      "Example 89\n",
      "Example 90\n",
      "Example 91\n",
      "Example 92\n",
      "Example 93\n",
      "Example 94\n",
      "Example 95\n",
      "Example 96\n",
      "Example 97\n",
      "Example 98\n",
      "Example 99\n",
      "Total Size160000\n",
      "Remaining Space16000.0\n",
      "Built system for error 0.25\n",
      "Example 0\n",
      "Example 1\n",
      "Example 2\n",
      "Example 3\n",
      "Example 4\n",
      "Example 5\n",
      "Example 6\n",
      "Example 7\n",
      "Example 8\n",
      "Example 9\n",
      "Example 10\n",
      "Example 11\n",
      "Example 12\n",
      "Example 13\n",
      "Example 14\n",
      "Example 15\n",
      "Example 16\n",
      "Example 17\n",
      "Example 18\n",
      "Example 19\n",
      "Example 20\n",
      "Example 21\n",
      "Example 22\n",
      "Example 23\n",
      "Example 24\n",
      "Example 25\n",
      "Example 26\n",
      "Example 27\n",
      "Example 28\n",
      "Example 29\n",
      "Example 30\n",
      "Example 31\n",
      "Example 32\n",
      "Example 33\n",
      "Example 34\n",
      "Example 35\n",
      "Example 36\n",
      "Example 37\n",
      "Example 38\n",
      "Example 39\n",
      "Example 40\n",
      "Example 41\n",
      "Example 42\n",
      "Example 43\n",
      "Example 44\n",
      "Example 45\n",
      "Example 46\n",
      "Example 47\n",
      "Example 48\n",
      "Example 49\n",
      "Example 50\n",
      "Example 51\n",
      "Example 52\n",
      "Example 53\n",
      "Example 54\n",
      "Example 55\n",
      "Example 56\n",
      "Example 57\n",
      "Example 58\n",
      "Example 59\n",
      "Example 60\n",
      "Example 61\n",
      "Example 62\n",
      "Example 63\n",
      "Example 64\n",
      "Example 65\n",
      "Example 66\n",
      "Example 67\n",
      "Example 68\n",
      "Example 69\n",
      "Example 70\n",
      "Example 71\n",
      "Example 72\n",
      "Example 73\n",
      "Example 74\n",
      "Example 75\n",
      "Example 76\n",
      "Example 77\n",
      "Example 78\n",
      "Example 79\n",
      "Example 80\n",
      "Example 81\n",
      "Example 82\n",
      "Example 83\n",
      "Example 84\n",
      "Example 85\n",
      "Example 86\n",
      "Example 87\n",
      "Example 88\n",
      "Example 89\n",
      "Example 90\n",
      "Example 91\n",
      "Example 92\n",
      "Example 93\n",
      "Example 94\n",
      "Example 95\n",
      "Example 96\n",
      "Example 97\n",
      "Example 98\n",
      "Example 99\n"
     ]
    }
   ],
   "source": [
    "#Test on a range of examples:\n",
    "#error and size for various user e\n",
    "total_allowed_space = .1\n",
    "n_examples = 100\n",
    "columns_to_test = np.random.choice (numeric_columns, n_examples, replace = True)\n",
    "quantile = .5\n",
    "errors = [.05, .1, .2, .25]\n",
    "results_map = {}\n",
    "for e in errors:\n",
    "    total_error = 0\n",
    "    system_1 = AQP_system(data, numeric_columns, categorical_columns, total_allowed_space, quantile_error=e)\n",
    "    #maps error level to (size, total error)\n",
    "    results_map[e]=[system_1.get_GK_size(), 0]\n",
    "    print (\"Built system for error \" + str(quantile_error))\n",
    "    for i in range (n_examples):\n",
    "        print (\"Example \" + str(i))\n",
    "        column = columns_to_test[i]\n",
    "        query = ['Quantile', column, quantile]\n",
    "        \n",
    "        #estimate that query\n",
    "        estimate = system_1.approximate_query(query)\n",
    "        sorted_column = sorted_columns[column]\n",
    "        \n",
    "        #find ranks of estimate \n",
    "        estimate_ranks = []\n",
    "        for i in range (len(sorted_column)):\n",
    "            if (sorted_column[i]==estimate):\n",
    "                estimate_ranks.append(i)\n",
    "            \n",
    "        if (len(estimate_ranks) == 0):\n",
    "            estimate_ranks = [len(sorted_column)]\n",
    "        \n",
    "        #find the smallest distance between an estimate rank and the actual rank, calculate rank error\n",
    "        errors = []\n",
    "        for entry in estimate_ranks:\n",
    "            errors.append(abs(entry - quantile*len(sorted_column))/len(sorted_column))\n",
    "        total_error += np.amin (errors)\n",
    "    results_map[e][1] = total_error/(n_examples)\n",
    "        "
   ]
  },
  {
   "cell_type": "code",
   "execution_count": 56,
   "metadata": {
    "scrolled": true
   },
   "outputs": [
    {
     "name": "stdout",
     "output_type": "stream",
     "text": [
      "{0.05: [2760, 0.027254], 0.1: [1818, 0.04517799999999998], 0.2: [1374, 0.08765899999999997], 0.25: [1146, 0.12357199999999997]}\n"
     ]
    }
   ],
   "source": [
    "print (results_map)"
   ]
  },
  {
   "cell_type": "code",
   "execution_count": 57,
   "metadata": {},
   "outputs": [
    {
     "data": {
      "text/plain": [
       "[<matplotlib.lines.Line2D at 0x11c358668>]"
      ]
     },
     "execution_count": 57,
     "metadata": {},
     "output_type": "execute_result"
    },
    {
     "data": {
      "image/png": "[encoded data removed]",
      "text/plain": [
       "<Figure size 432x288 with 1 Axes>"
      ]
     },
     "metadata": {
      "needs_background": "light"
     },
     "output_type": "display_data"
    }
   ],
   "source": [
    "plt.plot([results_map[key][0] for key in results_map.keys()],[results_map[key][1] for key in results_map.keys()])"
   ]
  },
  {
   "cell_type": "code",
   "execution_count": 63,
   "metadata": {},
   "outputs": [
    {
     "data": {
      "text/plain": [
       "[<matplotlib.lines.Line2D at 0x11a57c898>]"
      ]
     },
     "execution_count": 63,
     "metadata": {},
     "output_type": "execute_result"
    },
    {
     "data": {
      "image/png": "[encoded data removed]",
      "text/plain": [
       "<Figure size 432x288 with 1 Axes>"
      ]
     },
     "metadata": {
      "needs_background": "light"
     },
     "output_type": "display_data"
    }
   ],
   "source": [
    "plt.plot([key for key in results_map.keys()],[results_map[key][1] for key in results_map.keys()])"
   ]
  },
  {
   "cell_type": "code",
   "execution_count": 61,
   "metadata": {},
   "outputs": [
    {
     "data": {
      "text/plain": [
       "dict_keys([0.05, 0.1, 0.2, 0.25])"
      ]
     },
     "execution_count": 61,
     "metadata": {},
     "output_type": "execute_result"
    }
   ],
   "source": [
    "results_map.keys()"
   ]
  },
  {
   "cell_type": "code",
   "execution_count": 23,
   "metadata": {},
   "outputs": [],
   "source": [
    "#Evaluation 1.2: Histogram alone"
   ]
  },
  {
   "cell_type": "code",
   "execution_count": 24,
   "metadata": {},
   "outputs": [
    {
     "name": "stdout",
     "output_type": "stream",
     "text": [
      "Total Size160000\n",
      "Remaining Space16000.0\n"
     ]
    }
   ],
   "source": [
    "#create one system to evaluate histograms\n",
    "total_allowed_space = .1\n",
    "histogram_min_size = .01\n",
    "system_1 = AQP_system(data, numeric_columns, categorical_columns, total_allowed_space, histogram_min_size=histogram_min_size)\n"
   ]
  },
  {
   "cell_type": "code",
   "execution_count": 82,
   "metadata": {},
   "outputs": [],
   "source": [
    "#Evaluate\n",
    "n_examples = 100\n",
    "columns_to_test = np.random.choice (numeric_columns, n_examples, replace = True)\n",
    "cur_range = .5\n",
    "sizes= [.01, .05, .1, .2, .25]"
   ]
  },
  {
   "cell_type": "code",
   "execution_count": 83,
   "metadata": {},
   "outputs": [
    {
     "name": "stdout",
     "output_type": "stream",
     "text": [
      "Total Size160000\n",
      "Remaining Space16000.0\n",
      "Total Size160000\n",
      "Remaining Space16000.0\n",
      "Total Size160000\n",
      "Remaining Space16000.0\n",
      "Total Size160000\n",
      "Remaining Space16000.0\n",
      "Total Size160000\n",
      "Remaining Space16000.0\n"
     ]
    }
   ],
   "source": [
    "results_map= {}\n",
    "for min_size in sizes:\n",
    "    #size, total error, max error\n",
    "    results_map[min_size] = [0, 0, 0]\n",
    "    system_h = AQP_system(data, numeric_columns, categorical_columns, total_allowed_space, histogram_min_size=min_size)\n",
    "    results_map[min_size][0] = system_h.get_histogram_size()\n",
    "    total_error = 0\n",
    "    total_max_error = 0\n",
    "    for i in range (n_examples):\n",
    "        column = columns_to_test[i]\n",
    "        value = np.quantile (data[column].to_numpy(), cur_range)\n",
    "        query = ['Range', column, value]\n",
    "        result = system_h.approximate_query(query)\n",
    "        estimate = result[0]\n",
    "    \n",
    "        #actual count above cur_range\n",
    "        actual = (1-cur_range)*len(data[column].to_numpy())\n",
    "        inc_error = abs((actual-estimate)/len(data[column].to_numpy()))\n",
    "        max_error = result[1]/len(data[column].to_numpy())\n",
    "\n",
    "        total_error += inc_error\n",
    "        total_max_error += max_error\n",
    "    total_error = total_error/n_examples\n",
    "    total_max_error = total_max_error/n_examples\n",
    "    results_map[min_size][1] = total_error\n",
    "    results_map[min_size][2] = total_max_error\n",
    "    "
   ]
  },
  {
   "cell_type": "code",
   "execution_count": 84,
   "metadata": {},
   "outputs": [
    {
     "name": "stdout",
     "output_type": "stream",
     "text": [
      "{0.01: [500.0, 0.033968000000000026, 0.05223799999999998], 0.05: [2500.0, 0.03377600000000003, 0.051973999999999985], 0.1: [5000.0, 0.03374000000000002, 0.05193799999999997], 0.2: [10000.0, 0.03374000000000002, 0.05191399999999999], 0.25: [12500.0, 0.03374000000000002, 0.07664199999999997]}\n"
     ]
    }
   ],
   "source": [
    "#minimum size:[size, total errror, max error]\n",
    "print(results_map)"
   ]
  },
  {
   "cell_type": "code",
   "execution_count": 85,
   "metadata": {},
   "outputs": [
    {
     "data": {
      "text/plain": [
       "[<matplotlib.lines.Line2D at 0x14bc00e80>]"
      ]
     },
     "execution_count": 85,
     "metadata": {},
     "output_type": "execute_result"
    },
    {
     "data": {
      "image/png": "[encoded data removed]",
      "text/plain": [
       "<Figure size 432x288 with 1 Axes>"
      ]
     },
     "metadata": {
      "needs_background": "light"
     },
     "output_type": "display_data"
    }
   ],
   "source": [
    "plt.plot([results_map[key][0] for key in results_map.keys()],[results_map[key][1] for key in results_map.keys()])"
   ]
  },
  {
   "cell_type": "code",
   "execution_count": 86,
   "metadata": {},
   "outputs": [
    {
     "data": {
      "text/plain": [
       "[<matplotlib.lines.Line2D at 0x1245df128>]"
      ]
     },
     "execution_count": 86,
     "metadata": {},
     "output_type": "execute_result"
    },
    {
     "data": {
      "image/png": "[encoded data removed]",
      "text/plain": [
       "<Figure size 432x288 with 1 Axes>"
      ]
     },
     "metadata": {
      "needs_background": "light"
     },
     "output_type": "display_data"
    }
   ],
   "source": [
    "plt.plot([results_map[key][2] for key in results_map.keys()],[results_map[key][1] for key in results_map.keys()])"
   ]
  },
  {
   "cell_type": "code",
   "execution_count": 70,
   "metadata": {},
   "outputs": [
    {
     "data": {
      "text/plain": [
       "[0.01, 0.05, 0.1, 0.15, 0.2]"
      ]
     },
     "execution_count": 70,
     "metadata": {},
     "output_type": "execute_result"
    }
   ],
   "source": [
    "[key for key in results_map.keys()]"
   ]
  },
  {
   "cell_type": "code",
   "execution_count": null,
   "metadata": {},
   "outputs": [],
   "source": [
    "#Evaluation 1.3: Sum+Predicate alone"
   ]
  },
  {
   "cell_type": "code",
   "execution_count": 87,
   "metadata": {},
   "outputs": [
    {
     "name": "stdout",
     "output_type": "stream",
     "text": [
      "Total Size160000\n",
      "Remaining Space16000.0\n"
     ]
    }
   ],
   "source": [
    "#create one system to evaluate Sum+Predicate\n",
    "total_allowed_space = .1\n",
    "sample_error = .1\n",
    "system_1 = AQP_system(data, numeric_columns, categorical_columns, total_allowed_space, sample_error=sample_error)"
   ]
  },
  {
   "cell_type": "code",
   "execution_count": 88,
   "metadata": {},
   "outputs": [],
   "source": [
    "#Evaluate\n",
    "n_examples = 100\n",
    "numeric_columns_to_test = np.random.choice (numeric_columns, n_examples, replace = True)\n",
    "categorical_columns_to_test =  np.random.choice (categorical_columns, n_examples, replace = True)\n",
    "errors = [.1, .2, .3, .4, .5]"
   ]
  },
  {
   "cell_type": "code",
   "execution_count": 89,
   "metadata": {},
   "outputs": [
    {
     "name": "stdout",
     "output_type": "stream",
     "text": [
      "Total Size160000\n",
      "Remaining Space16000.0\n",
      "Total Size160000\n",
      "Remaining Space16000.0\n",
      "Total Size160000\n",
      "Remaining Space16000.0\n",
      "Total Size160000\n",
      "Remaining Space16000.0\n",
      "Total Size160000\n",
      "Remaining Space16000.0\n"
     ]
    }
   ],
   "source": [
    "results_map= {}\n",
    "for error in errors:\n",
    "    #actual eror, size\n",
    "    results_map[error] = [0, 0]\n",
    "    system_s = AQP_system(data, numeric_columns, categorical_columns, total_allowed_space, sample_error=error)\n",
    "    results_map[error][0] = system_s.get_measure_biased_samples_size();\n",
    "    total_error = 0\n",
    "    for i in range (n_examples):\n",
    "        numeric_column = numeric_columns_to_test[i]\n",
    "        categorical_column = categorical_columns_to_test[i]\n",
    "\n",
    "        query = ['Sum+Predicate', numeric_column, categorical_column]\n",
    "        estimated_distribution = system_s.approximate_query(query)\n",
    "\n",
    "        #actual distribution\n",
    "        total_actual = 0\n",
    "        actual_distribution = {}\n",
    "        for predicate in data[categorical_column]:\n",
    "            if (predicate not in actual_distribution):\n",
    "                actual_distribution[predicate] = 1\n",
    "            else:  \n",
    "                actual_distribution[predicate] += 1\n",
    "            total_actual += 1\n",
    "        for key in actual_distribution:\n",
    "            actual_distribution[key] /= total_actual\n",
    "\n",
    "        inc_error = 0\n",
    "        for key in actual_distribution:\n",
    "            inc_error += (actual_distribution[key]-estimated_distribution[key])**2\n",
    "        total_error += inc_error\n",
    "    total_error = total_error/n_examples\n",
    "    results_map[error][1] = total_error"
   ]
  },
  {
   "cell_type": "code",
   "execution_count": 90,
   "metadata": {},
   "outputs": [
    {
     "name": "stdout",
     "output_type": "stream",
     "text": [
      "{0.1: [799920, 8.064167921140758e-05], 0.2: [199920, 0.00026362640249348227], 0.3: [88880, 0.0007171312392985289], 0.4: [49920, 0.0009376897351742271], 0.5: [32000, 0.0013551531999999988]}\n"
     ]
    }
   ],
   "source": [
    "print (results_map)"
   ]
  },
  {
   "cell_type": "code",
   "execution_count": 91,
   "metadata": {},
   "outputs": [
    {
     "data": {
      "text/plain": [
       "[<matplotlib.lines.Line2D at 0x149cb7cf8>]"
      ]
     },
     "execution_count": 91,
     "metadata": {},
     "output_type": "execute_result"
    },
    {
     "data": {
      "image/png": "[encoded data removed]",
      "text/plain": [
       "<Figure size 432x288 with 1 Axes>"
      ]
     },
     "metadata": {
      "needs_background": "light"
     },
     "output_type": "display_data"
    }
   ],
   "source": [
    "plt.plot([results_map[key][0] for key in results_map.keys()],[results_map[key][1] for key in results_map.keys()])"
   ]
  },
  {
   "cell_type": "code",
   "execution_count": 92,
   "metadata": {},
   "outputs": [
    {
     "data": {
      "text/plain": [
       "[<matplotlib.lines.Line2D at 0x1491d7390>]"
      ]
     },
     "execution_count": 92,
     "metadata": {},
     "output_type": "execute_result"
    },
    {
     "data": {
      "image/png": "[encoded data removed]",
      "text/plain": [
       "<Figure size 432x288 with 1 Axes>"
      ]
     },
     "metadata": {
      "needs_background": "light"
     },
     "output_type": "display_data"
    }
   ],
   "source": [
    "plt.plot([key for key in results_map.keys()],[results_map[key][1] for key in results_map.keys()])"
   ]
  },
  {
   "cell_type": "code",
   "execution_count": null,
   "metadata": {},
   "outputs": [],
   "source": [
    "#analyze budget size based on e for samples\n",
    "N = 10000\n",
    "e = .1\n",
    "print(int(math.sqrt(N)/(e**2)))"
   ]
  },
  {
   "cell_type": "code",
   "execution_count": null,
   "metadata": {},
   "outputs": [],
   "source": [
    "#generate random workload\n",
    "query_types = ['Stdev', 'Sum', 'Sum+Predicate', 'Quantile', 'Range', 'Count']\n",
    "random_workload = np.random.choice(query_types, 100)"
   ]
  },
  {
   "cell_type": "code",
   "execution_count": null,
   "metadata": {},
   "outputs": [],
   "source": [
    "float(1/3)"
   ]
  },
  {
   "cell_type": "code",
   "execution_count": null,
   "metadata": {},
   "outputs": [],
   "source": []
  }
 ],
 "metadata": {
  "kernelspec": {
   "display_name": "Python 3",
   "language": "python",
   "name": "python3"
  },
  "language_info": {
   "codemirror_mode": {
    "name": "ipython",
    "version": 3
   },
   "file_extension": ".py",
   "mimetype": "text/x-python",
   "name": "python",
   "nbconvert_exporter": "python",
   "pygments_lexer": "ipython3",
   "version": "3.7.0"
  }
 },
 "nbformat": 4,
 "nbformat_minor": 2
}
