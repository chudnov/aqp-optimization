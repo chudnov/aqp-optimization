{
 "cells": [
  {
   "cell_type": "code",
   "execution_count": 2,
   "metadata": {},
   "outputs": [],
   "source": [
    "import math\n",
    "import numpy as np\n",
    "import matplotlib.pyplot as plt"
   ]
  },
  {
   "cell_type": "code",
   "execution_count": 3,
   "metadata": {},
   "outputs": [],
   "source": [
    "#http://infolab.stanford.edu/~datar/courses/cs361a/papers/quantiles.pdf\n",
    "#creates a summary on the data that gaurantees e-quantiles\n",
    "def GK_summary (data, e):\n",
    "    S = []\n",
    "    s = 0\n",
    "    for n in range (0,len(data)):\n",
    "        if (n%(1/(2*e)) == 0 and s>4):\n",
    "            #COMPRRESS()\n",
    "            for i in range (s-4,0, -1):\n",
    "                t_i = S[i]\n",
    "                t_i_next = S[i+1]\n",
    "                g_i_star  = t_i[1]\n",
    "                descendents_list = []\n",
    "                descendent_index = i - 1\n",
    "                while ((BAND(S[descendent_index], n, e) < BAND(t_i, n, e)) and (descendent_index>=0)):\n",
    "                    g_i_star += S[descendent_index][1]\n",
    "                    descendents_list.append (descendent_index)\n",
    "                    descendent_index -= 1 \n",
    "                g_i_next = t_i_next[1]\n",
    "                delta_i_next = t_i_next[2]\n",
    "                if ((BAND(t_i, n, e)<= BAND (t_i_next, n, e)) and (g_i_star + g_i_next + delta_i_next <2*e*n)):\n",
    "                    S[i+1][1]+= g_i_star\n",
    "                    del S[i]\n",
    "                    s-=1          \n",
    "                    for j in range (len(descendents_list)):\n",
    "                        del S[descendents_list[j]]\n",
    "                        s-=1\n",
    "        #INSERT\n",
    "        v = data[n]\n",
    "        if (len(S)==0):\n",
    "            S.insert (0, [v, 1, 0])\n",
    "            s+=1\n",
    "        elif (v<S[0][0]):\n",
    "            S.insert (0, [v, 1, 0])\n",
    "            s+=1\n",
    "        elif (v>S[len(S)-1][0]):\n",
    "            S.append ([v, 1, 0])\n",
    "            s+=1\n",
    "        else:\n",
    "            for i in range (1,len(S)):\n",
    "                v_i_prior = S[i-1][0]\n",
    "                v_i = S[i][0]\n",
    "                if (v_i_prior<=v<v_i):\n",
    "                    S.insert (i, [v, 1, math.floor(2*e*n)])\n",
    "                    s+=1\n",
    "                    break;  \n",
    "    return S;"
   ]
  },
  {
   "cell_type": "code",
   "execution_count": 4,
   "metadata": {},
   "outputs": [],
   "source": [
    "#From bands section\n",
    "def BAND (t_i, n, e):\n",
    "    #first 1/2e observations are in their own band\n",
    "    if (n<(1/2*e)):\n",
    "        return -1\n",
    "    p = math.floor (2*e*n)\n",
    "    if (t_i[2]==p):\n",
    "        return 0\n",
    "    band = 0\n",
    "    for a in range (1,math.ceil(math.log(2*e*n))):\n",
    "        if ((p-2**a-(p%2**a))<t_i[2]<=(p-2**(a-1)-(p%2**(a-1)))):\n",
    "            band = a\n",
    "            break;\n",
    "    return band"
   ]
  },
  {
   "cell_type": "code",
   "execution_count": 5,
   "metadata": {},
   "outputs": [],
   "source": [
    "#O((1/e)log(eN))\n",
    "def quantile (S, e, q, N):\n",
    "    r = math.ceil(q*N)\n",
    "    r_min_v_i = 0\n",
    "    v_i = None\n",
    "    for i in range (len(S)):\n",
    "        r_min_v_i += S[i][1]\n",
    "        r_max_v_i = r_min_v_i + S[i][2]\n",
    "        #print (e*N)\n",
    "        #print (r-r_min_v_i)\n",
    "        #print (r_max_v_i - r)\n",
    "        #print (i)\n",
    "        if (((r-r_min_v_i)<=e*N) and ((r_max_v_i - r) <= e*N)):\n",
    "            v_i =  S[i][0]\n",
    "            break;\n",
    "    return v_i"
   ]
  },
  {
   "cell_type": "code",
   "execution_count": 6,
   "metadata": {},
   "outputs": [
    {
     "name": "stdout",
     "output_type": "stream",
     "text": [
      "73\n",
      "99.0\n"
     ]
    }
   ],
   "source": [
    "#Test on one example\n",
    "data = np.random.randint (0, 1000, (1,10000))[0]\n",
    "e = .1\n",
    "N = len(data)\n",
    "summary = GK_summary(data,e)\n",
    "quantile_estimate = quantile (summary, e, .1, N)\n",
    "print(quantile_estimate)\n",
    "print(np.quantile(data, .1))"
   ]
  },
  {
   "cell_type": "code",
   "execution_count": 7,
   "metadata": {
    "scrolled": true
   },
   "outputs": [
    {
     "name": "stdout",
     "output_type": "stream",
     "text": [
      "Data size: 10000\n"
     ]
    },
    {
     "data": {
      "image/png": "[encoded data removed]",
      "text/plain": [
       "<Figure size 432x288 with 1 Axes>"
      ]
     },
     "metadata": {
      "needs_background": "light"
     },
     "output_type": "display_data"
    },
    {
     "name": "stdout",
     "output_type": "stream",
     "text": [
      "Data size: 25000\n"
     ]
    },
    {
     "data": {
      "image/png": "[encoded data removed]",
      "text/plain": [
       "<Figure size 432x288 with 1 Axes>"
      ]
     },
     "metadata": {
      "needs_background": "light"
     },
     "output_type": "display_data"
    },
    {
     "ename": "KeyboardInterrupt",
     "evalue": "",
     "output_type": "error",
     "traceback": [
      "\u001b[0;31m---------------------------------------------------------------------------\u001b[0m",
      "\u001b[0;31mKeyboardInterrupt\u001b[0m                         Traceback (most recent call last)",
      "\u001b[0;32m<ipython-input-7-28b73145dfe4>\u001b[0m in \u001b[0;36m<module>\u001b[0;34m\u001b[0m\n\u001b[1;32m      8\u001b[0m     \u001b[0mdata\u001b[0m \u001b[0;34m=\u001b[0m \u001b[0mnp\u001b[0m\u001b[0;34m.\u001b[0m\u001b[0mrandom\u001b[0m\u001b[0;34m.\u001b[0m\u001b[0mrandint\u001b[0m \u001b[0;34m(\u001b[0m\u001b[0;36m0\u001b[0m\u001b[0;34m,\u001b[0m \u001b[0;36m1000\u001b[0m\u001b[0;34m,\u001b[0m \u001b[0;34m(\u001b[0m\u001b[0;36m1\u001b[0m\u001b[0;34m,\u001b[0m\u001b[0mdata_size\u001b[0m\u001b[0;34m)\u001b[0m\u001b[0;34m)\u001b[0m\u001b[0;34m[\u001b[0m\u001b[0;36m0\u001b[0m\u001b[0;34m]\u001b[0m\u001b[0;34m\u001b[0m\u001b[0;34m\u001b[0m\u001b[0m\n\u001b[1;32m      9\u001b[0m     \u001b[0mN\u001b[0m \u001b[0;34m=\u001b[0m \u001b[0mlen\u001b[0m\u001b[0;34m(\u001b[0m\u001b[0mdata\u001b[0m\u001b[0;34m)\u001b[0m\u001b[0;34m\u001b[0m\u001b[0;34m\u001b[0m\u001b[0m\n\u001b[0;32m---> 10\u001b[0;31m     \u001b[0msummary\u001b[0m \u001b[0;34m=\u001b[0m \u001b[0mGK_summary\u001b[0m\u001b[0;34m(\u001b[0m\u001b[0mdata\u001b[0m\u001b[0;34m,\u001b[0m\u001b[0me\u001b[0m\u001b[0;34m)\u001b[0m\u001b[0;34m\u001b[0m\u001b[0;34m\u001b[0m\u001b[0m\n\u001b[0m\u001b[1;32m     11\u001b[0m     \u001b[0mdata\u001b[0m\u001b[0;34m.\u001b[0m\u001b[0msort\u001b[0m\u001b[0;34m(\u001b[0m\u001b[0;34m)\u001b[0m\u001b[0;34m\u001b[0m\u001b[0;34m\u001b[0m\u001b[0m\n\u001b[1;32m     12\u001b[0m     \u001b[0;32mfor\u001b[0m \u001b[0mq\u001b[0m \u001b[0;32min\u001b[0m \u001b[0mquantiles\u001b[0m\u001b[0;34m:\u001b[0m\u001b[0;34m\u001b[0m\u001b[0;34m\u001b[0m\u001b[0m\n",
      "\u001b[0;32m<ipython-input-3-1354a154fc7b>\u001b[0m in \u001b[0;36mGK_summary\u001b[0;34m(data, e)\u001b[0m\n\u001b[1;32m     40\u001b[0m             \u001b[0;32mfor\u001b[0m \u001b[0mi\u001b[0m \u001b[0;32min\u001b[0m \u001b[0mrange\u001b[0m \u001b[0;34m(\u001b[0m\u001b[0;36m1\u001b[0m\u001b[0;34m,\u001b[0m\u001b[0mlen\u001b[0m\u001b[0;34m(\u001b[0m\u001b[0mS\u001b[0m\u001b[0;34m)\u001b[0m\u001b[0;34m)\u001b[0m\u001b[0;34m:\u001b[0m\u001b[0;34m\u001b[0m\u001b[0;34m\u001b[0m\u001b[0m\n\u001b[1;32m     41\u001b[0m                 \u001b[0mv_i_prior\u001b[0m \u001b[0;34m=\u001b[0m \u001b[0mS\u001b[0m\u001b[0;34m[\u001b[0m\u001b[0mi\u001b[0m\u001b[0;34m-\u001b[0m\u001b[0;36m1\u001b[0m\u001b[0;34m]\u001b[0m\u001b[0;34m[\u001b[0m\u001b[0;36m0\u001b[0m\u001b[0;34m]\u001b[0m\u001b[0;34m\u001b[0m\u001b[0;34m\u001b[0m\u001b[0m\n\u001b[0;32m---> 42\u001b[0;31m                 \u001b[0mv_i\u001b[0m \u001b[0;34m=\u001b[0m \u001b[0mS\u001b[0m\u001b[0;34m[\u001b[0m\u001b[0mi\u001b[0m\u001b[0;34m]\u001b[0m\u001b[0;34m[\u001b[0m\u001b[0;36m0\u001b[0m\u001b[0;34m]\u001b[0m\u001b[0;34m\u001b[0m\u001b[0;34m\u001b[0m\u001b[0m\n\u001b[0m\u001b[1;32m     43\u001b[0m                 \u001b[0;32mif\u001b[0m \u001b[0;34m(\u001b[0m\u001b[0mv_i_prior\u001b[0m\u001b[0;34m<=\u001b[0m\u001b[0mv\u001b[0m\u001b[0;34m<\u001b[0m\u001b[0mv_i\u001b[0m\u001b[0;34m)\u001b[0m\u001b[0;34m:\u001b[0m\u001b[0;34m\u001b[0m\u001b[0;34m\u001b[0m\u001b[0m\n\u001b[1;32m     44\u001b[0m                     \u001b[0mS\u001b[0m\u001b[0;34m.\u001b[0m\u001b[0minsert\u001b[0m \u001b[0;34m(\u001b[0m\u001b[0mi\u001b[0m\u001b[0;34m,\u001b[0m \u001b[0;34m[\u001b[0m\u001b[0mv\u001b[0m\u001b[0;34m,\u001b[0m \u001b[0;36m1\u001b[0m\u001b[0;34m,\u001b[0m \u001b[0mmath\u001b[0m\u001b[0;34m.\u001b[0m\u001b[0mfloor\u001b[0m\u001b[0;34m(\u001b[0m\u001b[0;36m2\u001b[0m\u001b[0;34m*\u001b[0m\u001b[0me\u001b[0m\u001b[0;34m*\u001b[0m\u001b[0mn\u001b[0m\u001b[0;34m)\u001b[0m\u001b[0;34m]\u001b[0m\u001b[0;34m)\u001b[0m\u001b[0;34m\u001b[0m\u001b[0;34m\u001b[0m\u001b[0m\n",
      "\u001b[0;31mKeyboardInterrupt\u001b[0m: "
     ]
    }
   ],
   "source": [
    "#test on a range of examples, evaluate rank error\n",
    "data_sizes = [10000, 25000, 50000, 100000, 250000, 500000, 1000000]\n",
    "quantiles = [.01, .1, .25, .5, .75, .99]\n",
    "examples = dict()\n",
    "e = .001\n",
    "for data_size in data_sizes:\n",
    "    errors = []\n",
    "    data = np.random.randint (0, 1000, (1,data_size))[0]\n",
    "    N = len(data)\n",
    "    summary = GK_summary(data,e)\n",
    "    data.sort()\n",
    "    for q in quantiles:\n",
    "        quantile_estimate = quantile (summary, e, q, N)\n",
    "        estimate_rank = len(data)\n",
    "        for i in range (len(data)):\n",
    "            if (data[i]>=quantile_estimate):\n",
    "                estimate_rank = i\n",
    "                break;\n",
    "        error = abs(q*N-estimate_rank)/N\n",
    "        examples[(data_size, quantile)] = error\n",
    "        errors.append(error)\n",
    "    print (\"Data size: \" + str(data_size))\n",
    "    plt.plot (quantiles, errors)\n",
    "    plt.show()      "
   ]
  },
  {
   "cell_type": "code",
   "execution_count": 13,
   "metadata": {},
   "outputs": [],
   "source": [
    "#Estimate percentile within a range in dataset using GK summary (no guaruntees)\n",
    "def range_estimate(summary, N, lower_bound, upper_bound):\n",
    "    summary_range_data = []\n",
    "    for i in range (len(summary)):\n",
    "        if (lower_bound <= summary[i][0] <= upper_bound):\n",
    "            summary_range_data.append(summary[i][0])\n",
    "    proportion_estimate = len(summary_range_data)/len(summary)\n",
    "    return proportion_estimate"
   ]
  },
  {
   "cell_type": "code",
   "execution_count": 14,
   "metadata": {},
   "outputs": [
    {
     "name": "stdout",
     "output_type": "stream",
     "text": [
      "0.0917124901806755\n"
     ]
    }
   ],
   "source": [
    "#test with range on an example\n",
    "data = np.random.randint (0, 1000, (1,10000))[0]\n",
    "e = .1\n",
    "q = .5\n",
    "lower_bound = 0\n",
    "upper_bound = 500\n",
    "N = len(data)\n",
    "summary = GK_summary(data,e)\n",
    "proportion_estimate = range_estimate(summary, N, lower_bound, upper_bound)\n",
    "#eval error\n",
    "range_data  = []\n",
    "for i in range (len(data)):\n",
    "    if (lower_bound<=data[i]<=upper_bound):\n",
    "        range_data.append(data[i])\n",
    "proportion_actual = len(range_data)/len(data)\n",
    "relative_error = abs(proportion_actual-proportion_estimate)/proportion_actual\n",
    "print (relative_error)"
   ]
  },
  {
   "cell_type": "code",
   "execution_count": 16,
   "metadata": {},
   "outputs": [
    {
     "name": "stdout",
     "output_type": "stream",
     "text": [
      "0.5092\n"
     ]
    }
   ],
   "source": [
    "print (proportion_actual)"
   ]
  },
  {
   "cell_type": "code",
   "execution_count": null,
   "metadata": {},
   "outputs": [],
   "source": []
  }
 ],
 "metadata": {
  "kernelspec": {
   "display_name": "Python 3",
   "language": "python",
   "name": "python3"
  },
  "language_info": {
   "codemirror_mode": {
    "name": "ipython",
    "version": 3
   },
   "file_extension": ".py",
   "mimetype": "text/x-python",
   "name": "python",
   "nbconvert_exporter": "python",
   "pygments_lexer": "ipython3",
   "version": "3.7.1"
  }
 },
 "nbformat": 4,
 "nbformat_minor": 2
}
