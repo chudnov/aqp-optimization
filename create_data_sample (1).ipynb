{
 "cells": [
  {
   "cell_type": "code",
   "execution_count": 1,
   "metadata": {},
   "outputs": [],
   "source": [
    "import pandas as pd"
   ]
  },
  {
   "cell_type": "code",
   "execution_count": 2,
   "metadata": {},
   "outputs": [],
   "source": [
    "#load TPC_H data"
   ]
  },
  {
   "cell_type": "code",
   "execution_count": 3,
   "metadata": {},
   "outputs": [],
   "source": [
    "col_names = ['L_ORDERKEY', 'L_PARTKEY', 'L_SUPPKEY', 'L_LINENUMBER', 'L_QUANTITY', 'L_EXTENDEDPRICE',\n",
    "    'L_DISCOUNT', 'L_TAX', 'L_RETURNFLAG', 'L_LINESTATUS', 'L_SHIPDATE', 'L_COMMITDATE',\n",
    "    'L_RECEIPTDATE', 'L_SHIPINSTRUCT', 'L_SHIPMODE', 'L_COMMENT', 'dummy1',\n",
    "    'C_CUSTKEY', 'C_NAME', 'C_ADDRESS', 'C_NATIONKEY', 'C_PHONE', 'C_ACCTBAL', 'C_MKTSEGMENT', 'C_COMMENT', 'dummy2',\n",
    "    'O_ORDERKEY', 'O_CUSTKEY', 'O_ORDERSTATUS', 'O_TOTALPRICE', 'O_ORDERDATE', 'O_ORDERPRIORITY', 'O_CLERK', 'O_SHIPPRIORITY', 'O_COMMENT', 'dummy3',\n",
    "    'P_PARTKEY', 'P_NAME', 'P_MFGR', 'P_BRAND', 'P_TYPE', 'P_SIZE', 'P_CONTAINER', 'P_RETAILPRICE', 'P_COMMENT', 'dummy4',\n",
    "    'PS_PARTKEY', 'PS_SUPPKEY', 'PS_AVAILQTY', 'PS_SUPPLYCOST', 'PS_COMMENT', 'dummy5',\n",
    "    'S_SUPPKEY', 'S_NAME', 'S_ADDRESS', 'S_NATIONKEY', 'S_PHONE', 'S_ACCTBAL', 'S_COMMENT', 'dummy6',\n",
    "    'N1_NATIONKEY', 'N1_NAME', 'N1_REGIONKEY', 'N1_COMMENT', 'dummy7',\n",
    "    'N2_NATIONKEY', 'N2_NAME', 'N2_REGIONKEY', 'N2_COMMENT', 'dummy8',\n",
    "    'R1_REGIONKEY', 'R1_NAME', 'R1_COMMENT', 'dummy9',\n",
    "    'R2_REGIONKEY', 'R2_NAME', 'R2_COMMENT', 'dummy10']"
   ]
  },
  {
   "cell_type": "code",
   "execution_count": 4,
   "metadata": {},
   "outputs": [
    {
     "name": "stderr",
     "output_type": "stream",
     "text": [
      "/anaconda3/lib/python3.7/site-packages/IPython/core/interactiveshell.py:3058: DtypeWarning: Columns (0,1,2,3,4,5,6,7,16,17,20,22,25,26,27,29,33,35,36,41,43,45,46,47,48,49,51,52,55,57,59,60,62,64,65,67) have mixed types. Specify dtype option on import or set low_memory=False.\n",
      "  interactivity=interactivity, compiler=compiler, result=result)\n"
     ]
    }
   ],
   "source": [
    "tpch_denormalized = pd.read_table('denorm.tbl', names=col_names, sep = '|')"
   ]
  },
  {
   "cell_type": "code",
   "execution_count": 12,
   "metadata": {},
   "outputs": [],
   "source": [
    "#Take small sample for local machine\n",
    "sample_size = 100000\n",
    "tpch_denormalized_sample = tpch_denormalized.sample(n=sample_size)"
   ]
  },
  {
   "cell_type": "code",
   "execution_count": 6,
   "metadata": {},
   "outputs": [],
   "source": [
    "#inspect and clean data"
   ]
  },
  {
   "cell_type": "code",
   "execution_count": 7,
   "metadata": {},
   "outputs": [
    {
     "data": {
      "text/plain": [
       "<bound method NDFrame.head of         L_ORDERKEY L_PARTKEY L_SUPPKEY L_LINENUMBER L_QUANTITY  \\\n",
       "730577     3135652    158863      1379            1         10   \n",
       "2494506    2375554    196316      1355            2         43   \n",
       "2565810    1812613    119917      9918            4         34   \n",
       "5381682    5156038     11485      3987            1         14   \n",
       "2771401     340705    155190       221            5         17   \n",
       "...            ...       ...       ...          ...        ...   \n",
       "951438     3687139     70740      3248            2         21   \n",
       "4612113    3223010     94366      9385            2         24   \n",
       "5518261    5883619    186979      2016            2         38   \n",
       "3517611    2184774     88914      6439            3         37   \n",
       "2826431     303685    155190      5191            7         17   \n",
       "\n",
       "        L_EXTENDEDPRICE L_DISCOUNT L_TAX L_RETURNFLAG L_LINESTATUS  ...  \\\n",
       "730577          19218.6       0.05  0.02            A            F  ...   \n",
       "2494506         60729.3       0.09  0.07            A            F  ...   \n",
       "2565810         65854.9       0.08  0.06            A            F  ...   \n",
       "5381682         19550.7          0  0.01            N            O  ...   \n",
       "2771401         21168.2       0.04  0.02            N            O  ...   \n",
       "...                 ...        ...   ...          ...          ...  ...   \n",
       "951438          35925.5       0.05  0.03            N            O  ...   \n",
       "4612113         32648.6       0.07  0.06            A            F  ...   \n",
       "5518261         78506.9       0.03  0.07            N            O  ...   \n",
       "3517611         70407.7       0.06     0            N            O  ...   \n",
       "2826431         21168.2       0.04  0.02            N            O  ...   \n",
       "\n",
       "                                                N2_COMMENT dummy8  \\\n",
       "730577         5Lh wzQAM662Aw1ByCl7CxmzRwNR5nAlO4 xBBQlim0    NaN   \n",
       "2494506        5Lh wzQAM662Aw1ByCl7CxmzRwNR5nAlO4 xBBQlim0    NaN   \n",
       "2565810  3g 4y0L4Alx1gNCAP2kjQMBR2xwiiSNLgCMQx74RmhMy4O...    NaN   \n",
       "5381682        2Cxhl7 L1iwk6hMh300izngN32CPwCikyLk6khMzSRA    NaN   \n",
       "2771401  23iMC6N gw7Mg4xPiAwjQS6iROwPgjz7jkPll5RkRxgCCl...    NaN   \n",
       "...                                                    ...    ...   \n",
       "951438         h532g43BgShyO50OgSB2hO6jxQn3Q1w4NmPL4hg0mmP    NaN   \n",
       "4612113        iPQQzNAxPL30n67OgyC l617Sh4LSx6451A 4yMO Ah    NaN   \n",
       "5518261        h532g43BgShyO50OgSB2hO6jxQn3Q1w4NmPL4hg0mmP    NaN   \n",
       "3517611        2Cxhl7 L1iwk6hMh300izngN32CPwCikyLk6khMzSRA    NaN   \n",
       "2826431  ny0P6Q0NhM5N26AhghiClRQlP QNQx205B3im7zPBOSSm5...    NaN   \n",
       "\n",
       "        R1_REGIONKEY      R1_NAME  \\\n",
       "730577           2.0         ASIA   \n",
       "2494506          2.0         ASIA   \n",
       "2565810          2.0         ASIA   \n",
       "5381682          3.0       EUROPE   \n",
       "2771401          2.0         ASIA   \n",
       "...              ...          ...   \n",
       "951438           3.0       EUROPE   \n",
       "4612113          4.0  MIDDLE EAST   \n",
       "5518261          0.0       AFRICA   \n",
       "3517611          3.0       EUROPE   \n",
       "2826431          4.0  MIDDLE EAST   \n",
       "\n",
       "                                                R1_COMMENT dummy9  \\\n",
       "730577   mgRQ4lgPCMk21A425iklyAR4yBRAwR4Cm5miNw 4jl13mM...    NaN   \n",
       "2494506  mgRQ4lgPCMk21A425iklyAR4yBRAwR4Cm5miNw 4jl13mM...    NaN   \n",
       "2565810  mgRQ4lgPCMk21A425iklyAR4yBRAwR4Cm5miNw 4jl13mM...    NaN   \n",
       "5381682  NSg6xlMlA1lzm6mOR0Ajx nhRA77NgRxBwL1M6Py RjySB...    NaN   \n",
       "2771401  mgRQ4lgPCMk21A425iklyAR4yBRAwR4Cm5miNw 4jl13mM...    NaN   \n",
       "...                                                    ...    ...   \n",
       "951438   NSg6xlMlA1lzm6mOR0Ajx nhRA77NgRxBwL1M6Py RjySB...    NaN   \n",
       "4612113  BQ xAzkOgkjmll0gAghinP5inmNmR76MlijMS3S2zxONR1...    NaN   \n",
       "5518261  xSx31zz31Cl1z4OAnmm05AjiOxC3AMMNOgC0kACgwngg3g...    NaN   \n",
       "3517611  NSg6xlMlA1lzm6mOR0Ajx nhRA77NgRxBwL1M6Py RjySB...    NaN   \n",
       "2826431  BQ xAzkOgkjmll0gAghinP5inmNmR76MlijMS3S2zxONR1...    NaN   \n",
       "\n",
       "        R2_REGIONKEY      R2_NAME  \\\n",
       "730577           0.0       AFRICA   \n",
       "2494506          0.0       AFRICA   \n",
       "2565810          1.0      AMERICA   \n",
       "5381682          0.0       AFRICA   \n",
       "2771401          1.0      AMERICA   \n",
       "...              ...          ...   \n",
       "951438           0.0       AFRICA   \n",
       "4612113          4.0  MIDDLE EAST   \n",
       "5518261          0.0       AFRICA   \n",
       "3517611          0.0       AFRICA   \n",
       "2826431          3.0       EUROPE   \n",
       "\n",
       "                                                R2_COMMENT dummy10  \n",
       "730577   xSx31zz31Cl1z4OAnmm05AjiOxC3AMMNOgC0kACgwngg3g...     NaN  \n",
       "2494506  xSx31zz31Cl1z4OAnmm05AjiOxC3AMMNOgC0kACgwngg3g...     NaN  \n",
       "2565810  C wg4kgyh3LSnC72k6zlAz0LP3k2L4QB1QL1O673OjO1SP...     NaN  \n",
       "5381682  xSx31zz31Cl1z4OAnmm05AjiOxC3AMMNOgC0kACgwngg3g...     NaN  \n",
       "2771401  C wg4kgyh3LSnC72k6zlAz0LP3k2L4QB1QL1O673OjO1SP...     NaN  \n",
       "...                                                    ...     ...  \n",
       "951438   xSx31zz31Cl1z4OAnmm05AjiOxC3AMMNOgC0kACgwngg3g...     NaN  \n",
       "4612113  BQ xAzkOgkjmll0gAghinP5inmNmR76MlijMS3S2zxONR1...     NaN  \n",
       "5518261  xSx31zz31Cl1z4OAnmm05AjiOxC3AMMNOgC0kACgwngg3g...     NaN  \n",
       "3517611  xSx31zz31Cl1z4OAnmm05AjiOxC3AMMNOgC0kACgwngg3g...     NaN  \n",
       "2826431  NSg6xlMlA1lzm6mOR0Ajx nhRA77NgRxBwL1M6Py RjySB...     NaN  \n",
       "\n",
       "[10000 rows x 78 columns]>"
      ]
     },
     "execution_count": 7,
     "metadata": {},
     "output_type": "execute_result"
    }
   ],
   "source": [
    "tpch_denormalized_sample.head"
   ]
  },
  {
   "cell_type": "code",
   "execution_count": 13,
   "metadata": {},
   "outputs": [],
   "source": [
    "#drop comment and dummy columns\n",
    "unwanted_columns = ['L_COMMENT', 'dummy1', 'C_COMMENT', 'dummy2', 'O_COMMENT', 'dummy3',\n",
    "                              'P_COMMENT', 'dummy4', 'PS_COMMENT', 'dummy5', 'S_COMMENT', 'dummy6', \n",
    "                               'N1_COMMENT', 'dummy7', 'N2_COMMENT', 'dummy8', 'R1_COMMENT', 'dummy9',\n",
    "                              'R2_COMMENT', 'dummy10']\n",
    "tpch_denormalized_sample = tpch_denormalized_sample.drop(columns=unwanted_columns, axis=1)"
   ]
  },
  {
   "cell_type": "code",
   "execution_count": 14,
   "metadata": {},
   "outputs": [
    {
     "name": "stdout",
     "output_type": "stream",
     "text": [
      "L_ORDERKEY                                  1419043\n",
      "L_PARTKEY                                     62860\n",
      "L_SUPPKEY                                      7873\n",
      "L_LINENUMBER                                      4\n",
      "L_QUANTITY                                       15\n",
      "L_EXTENDEDPRICE                             27342.9\n",
      "L_DISCOUNT                                     0.04\n",
      "L_TAX                                          0.08\n",
      "L_RETURNFLAG                                      N\n",
      "L_LINESTATUS                                      O\n",
      "L_SHIPDATE                               1997-02-07\n",
      "L_COMMITDATE                             1997-03-09\n",
      "L_RECEIPTDATE                            1997-02-13\n",
      "L_SHIPINSTRUCT                    DELIVER IN PERSON\n",
      "L_SHIPMODE                                     RAIL\n",
      "C_CUSTKEY                                     55816\n",
      "C_NAME                           Customer#000055816\n",
      "C_ADDRESS                        20kRAl4PRhg2CPR3Cm\n",
      "C_NATIONKEY                                       1\n",
      "C_PHONE                             11-433-131-5366\n",
      "C_ACCTBAL                                    3458.6\n",
      "C_MKTSEGMENT                              HOUSEHOLD\n",
      "O_ORDERKEY                                  1419043\n",
      "O_CUSTKEY                                     55816\n",
      "O_ORDERSTATUS                                     O\n",
      "O_TOTALPRICE                                 170095\n",
      "O_ORDERDATE                              1996-12-19\n",
      "O_ORDERPRIORITY                              2-HIGH\n",
      "O_CLERK                             Clerk#000000547\n",
      "O_SHIPPRIORITY                                    0\n",
      "P_PARTKEY                                     62860\n",
      "P_NAME                red blue frosted maroon ghost\n",
      "P_MFGR                               Manufacturer#5\n",
      "P_BRAND                                    Brand#53\n",
      "P_TYPE                         LARGE ANODIZED STEEL\n",
      "P_SIZE                                           10\n",
      "P_CONTAINER                                 MED JAR\n",
      "P_RETAILPRICE                               1822.86\n",
      "PS_PARTKEY                                    62860\n",
      "PS_SUPPKEY                                     7873\n",
      "PS_AVAILQTY                                    9727\n",
      "PS_SUPPLYCOST                                872.63\n",
      "S_SUPPKEY                                      7873\n",
      "S_NAME                           Supplier#000007873\n",
      "S_ADDRESS          P2CBCwQMn43xSw0Ag5jSA2MyPLkC2 kl\n",
      "S_NATIONKEY                                      11\n",
      "S_PHONE                             21-306-931-7532\n",
      "S_ACCTBAL                                      5.01\n",
      "N1_NATIONKEY                                      1\n",
      "N1_NAME                                   ARGENTINA\n",
      "N1_REGIONKEY                                      1\n",
      "N2_NATIONKEY                                     11\n",
      "N2_NAME                                        IRAQ\n",
      "N2_REGIONKEY                                      4\n",
      "R1_REGIONKEY                                      1\n",
      "R1_NAME                                     AMERICA\n",
      "R2_REGIONKEY                                      4\n",
      "R2_NAME                                 MIDDLE EAST\n",
      "Name: 355725, dtype: object\n"
     ]
    }
   ],
   "source": [
    "#look for numeric and categorical columns\n",
    "print (tpch_denormalized_sample.iloc[0])"
   ]
  },
  {
   "cell_type": "code",
   "execution_count": 15,
   "metadata": {},
   "outputs": [],
   "source": [
    "#export to csv\n",
    "tpch_denormalized_sample.to_csv('data/tpch_100000.csv')"
   ]
  },
  {
   "cell_type": "code",
   "execution_count": null,
   "metadata": {},
   "outputs": [],
   "source": []
  }
 ],
 "metadata": {
  "kernelspec": {
   "display_name": "Python 3",
   "language": "python",
   "name": "python3"
  },
  "language_info": {
   "codemirror_mode": {
    "name": "ipython",
    "version": 3
   },
   "file_extension": ".py",
   "mimetype": "text/x-python",
   "name": "python",
   "nbconvert_exporter": "python",
   "pygments_lexer": "ipython3",
   "version": "3.7.1"
  }
 },
 "nbformat": 4,
 "nbformat_minor": 2
}
